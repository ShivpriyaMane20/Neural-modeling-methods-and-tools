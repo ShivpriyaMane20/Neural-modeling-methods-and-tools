{
 "cells": [
  {
   "cell_type": "markdown",
   "id": "77220e91-dbd1-41df-8586-05b4649b5fb1",
   "metadata": {},
   "source": [
    "# Assignment 2 Part 2:\n",
    "Alternate approach\n",
    "Dataset:\n",
    "\n",
    "This notebook is Assignment 1 part 2, in inital approach our model seemed to overfit so I tried working with precipitation as label\n",
    "\n"
   ]
  },
  {
   "cell_type": "markdown",
   "id": "de2342e1-38df-4fa7-9fea-593886f06825",
   "metadata": {},
   "source": [
    "## Load and inspect dataset\n",
    " The dataset is loaded using pandas.read_csv() while skipping the first 8 rows, which contain metadata rather than data points"
   ]
  },
  {
   "cell_type": "code",
   "execution_count": 31,
   "id": "89e8d3f2-d071-4d04-bb9a-ddb957dcae5c",
   "metadata": {},
   "outputs": [],
   "source": [
    "import pandas as pd\n",
    "import numpy as np\n",
    "from scipy.stats import entropy\n",
    "import matplotlib.pyplot as plt\n",
    "# Load the dataset and skip the first 8 non-data rows\n",
    "file_path = '/Users/shivpriyamane/Downloads/MI-14850-TRAVERSE_CITY_CHERRY_CPTL_AP/MI-14850-2011Fall-2012Spring.csv'\n",
    "data = pd.read_csv(file_path, skiprows=8)"
   ]
  },
  {
   "cell_type": "code",
   "execution_count": 32,
   "id": "8f1d4c5c-291e-473b-b683-13199c7e516d",
   "metadata": {},
   "outputs": [
    {
     "data": {
      "text/html": [
       "<div>\n",
       "<style scoped>\n",
       "    .dataframe tbody tr th:only-of-type {\n",
       "        vertical-align: middle;\n",
       "    }\n",
       "\n",
       "    .dataframe tbody tr th {\n",
       "        vertical-align: top;\n",
       "    }\n",
       "\n",
       "    .dataframe thead th {\n",
       "        text-align: right;\n",
       "    }\n",
       "</style>\n",
       "<table border=\"1\" class=\"dataframe\">\n",
       "  <thead>\n",
       "    <tr style=\"text-align: right;\">\n",
       "      <th></th>\n",
       "      <th>Date</th>\n",
       "      <th>Time</th>\n",
       "      <th>Temp (F)</th>\n",
       "      <th>RH (%)</th>\n",
       "      <th>Dewpt (F)</th>\n",
       "      <th>Wind Spd (mph)</th>\n",
       "      <th>Wind Direction (deg)</th>\n",
       "      <th>Peak Wind Gust(mph)</th>\n",
       "      <th>Low Cloud Ht (ft)</th>\n",
       "      <th>Med Cloud Ht (ft)</th>\n",
       "      <th>High Cloud Ht (ft)</th>\n",
       "      <th>Visibility (mi)</th>\n",
       "      <th>Atm Press (hPa)</th>\n",
       "      <th>Sea Lev Press (hPa)</th>\n",
       "      <th>Altimeter (hPa)</th>\n",
       "      <th>Precip (in)</th>\n",
       "      <th>Wind Chill (F)</th>\n",
       "      <th>Heat Index (F)</th>\n",
       "      <th>Unnamed: 18</th>\n",
       "    </tr>\n",
       "  </thead>\n",
       "  <tbody>\n",
       "    <tr>\n",
       "      <th>0</th>\n",
       "      <td>2011-09-01</td>\n",
       "      <td>00:53</td>\n",
       "      <td>65</td>\n",
       "      <td>84</td>\n",
       "      <td>60</td>\n",
       "      <td>0</td>\n",
       "      <td>0</td>\n",
       "      <td>m</td>\n",
       "      <td>0</td>\n",
       "      <td>m</td>\n",
       "      <td>m</td>\n",
       "      <td>10</td>\n",
       "      <td>992.3</td>\n",
       "      <td>1015.00</td>\n",
       "      <td>1015.2</td>\n",
       "      <td>0.00</td>\n",
       "      <td>NC</td>\n",
       "      <td>NC</td>\n",
       "      <td>NaN</td>\n",
       "    </tr>\n",
       "    <tr>\n",
       "      <th>1</th>\n",
       "      <td>2011-09-01</td>\n",
       "      <td>01:53</td>\n",
       "      <td>62</td>\n",
       "      <td>89</td>\n",
       "      <td>59</td>\n",
       "      <td>0</td>\n",
       "      <td>0</td>\n",
       "      <td>m</td>\n",
       "      <td>0</td>\n",
       "      <td>m</td>\n",
       "      <td>m</td>\n",
       "      <td>6</td>\n",
       "      <td>992.3</td>\n",
       "      <td>1014.80</td>\n",
       "      <td>1015.2</td>\n",
       "      <td>0.00</td>\n",
       "      <td>NC</td>\n",
       "      <td>NC</td>\n",
       "      <td>NaN</td>\n",
       "    </tr>\n",
       "    <tr>\n",
       "      <th>2</th>\n",
       "      <td>2011-09-01</td>\n",
       "      <td>02:53</td>\n",
       "      <td>62</td>\n",
       "      <td>89</td>\n",
       "      <td>59</td>\n",
       "      <td>0</td>\n",
       "      <td>0</td>\n",
       "      <td>m</td>\n",
       "      <td>0</td>\n",
       "      <td>m</td>\n",
       "      <td>m</td>\n",
       "      <td>6</td>\n",
       "      <td>992.0</td>\n",
       "      <td>1014.80</td>\n",
       "      <td>1014.9</td>\n",
       "      <td>0.00</td>\n",
       "      <td>NC</td>\n",
       "      <td>NC</td>\n",
       "      <td>NaN</td>\n",
       "    </tr>\n",
       "    <tr>\n",
       "      <th>3</th>\n",
       "      <td>2011-09-01</td>\n",
       "      <td>03:53</td>\n",
       "      <td>61</td>\n",
       "      <td>93</td>\n",
       "      <td>59</td>\n",
       "      <td>0</td>\n",
       "      <td>0</td>\n",
       "      <td>m</td>\n",
       "      <td>0</td>\n",
       "      <td>m</td>\n",
       "      <td>m</td>\n",
       "      <td>4</td>\n",
       "      <td>992.0</td>\n",
       "      <td>1014.70</td>\n",
       "      <td>1014.9</td>\n",
       "      <td>0.00</td>\n",
       "      <td>NC</td>\n",
       "      <td>NC</td>\n",
       "      <td>NaN</td>\n",
       "    </tr>\n",
       "    <tr>\n",
       "      <th>4</th>\n",
       "      <td>2011-09-01</td>\n",
       "      <td>04:53</td>\n",
       "      <td>60</td>\n",
       "      <td>92</td>\n",
       "      <td>58</td>\n",
       "      <td>0</td>\n",
       "      <td>0</td>\n",
       "      <td>m</td>\n",
       "      <td>0</td>\n",
       "      <td>m</td>\n",
       "      <td>m</td>\n",
       "      <td>3</td>\n",
       "      <td>992.0</td>\n",
       "      <td>1014.80</td>\n",
       "      <td>1014.9</td>\n",
       "      <td>0.00</td>\n",
       "      <td>NC</td>\n",
       "      <td>NC</td>\n",
       "      <td>NaN</td>\n",
       "    </tr>\n",
       "  </tbody>\n",
       "</table>\n",
       "</div>"
      ],
      "text/plain": [
       "         Date   Time Temp (F) RH (%) Dewpt (F) Wind Spd (mph)  \\\n",
       "0  2011-09-01  00:53       65     84        60              0   \n",
       "1  2011-09-01  01:53       62     89        59              0   \n",
       "2  2011-09-01  02:53       62     89        59              0   \n",
       "3  2011-09-01  03:53       61     93        59              0   \n",
       "4  2011-09-01  04:53       60     92        58              0   \n",
       "\n",
       "  Wind Direction (deg) Peak Wind Gust(mph) Low Cloud Ht (ft)  \\\n",
       "0                    0                   m                 0   \n",
       "1                    0                   m                 0   \n",
       "2                    0                   m                 0   \n",
       "3                    0                   m                 0   \n",
       "4                    0                   m                 0   \n",
       "\n",
       "  Med Cloud Ht (ft) High Cloud Ht (ft) Visibility (mi)  Atm Press (hPa)  \\\n",
       "0                 m                  m              10            992.3   \n",
       "1                 m                  m               6            992.3   \n",
       "2                 m                  m               6            992.0   \n",
       "3                 m                  m               4            992.0   \n",
       "4                 m                  m               3            992.0   \n",
       "\n",
       "  Sea Lev Press (hPa)  Altimeter (hPa) Precip (in) Wind Chill (F)  \\\n",
       "0             1015.00           1015.2        0.00             NC   \n",
       "1             1014.80           1015.2        0.00             NC   \n",
       "2             1014.80           1014.9        0.00             NC   \n",
       "3             1014.70           1014.9        0.00             NC   \n",
       "4             1014.80           1014.9        0.00             NC   \n",
       "\n",
       "  Heat Index (F)  Unnamed: 18  \n",
       "0             NC          NaN  \n",
       "1             NC          NaN  \n",
       "2             NC          NaN  \n",
       "3             NC          NaN  \n",
       "4             NC          NaN  "
      ]
     },
     "execution_count": 32,
     "metadata": {},
     "output_type": "execute_result"
    }
   ],
   "source": [
    "data.head()"
   ]
  },
  {
   "cell_type": "code",
   "execution_count": 33,
   "id": "83868857-31a7-452d-b5fe-3d607646ba3c",
   "metadata": {},
   "outputs": [
    {
     "data": {
      "text/html": [
       "<div>\n",
       "<style scoped>\n",
       "    .dataframe tbody tr th:only-of-type {\n",
       "        vertical-align: middle;\n",
       "    }\n",
       "\n",
       "    .dataframe tbody tr th {\n",
       "        vertical-align: top;\n",
       "    }\n",
       "\n",
       "    .dataframe thead th {\n",
       "        text-align: right;\n",
       "    }\n",
       "</style>\n",
       "<table border=\"1\" class=\"dataframe\">\n",
       "  <thead>\n",
       "    <tr style=\"text-align: right;\">\n",
       "      <th></th>\n",
       "      <th>Atm Press (hPa)</th>\n",
       "      <th>Altimeter (hPa)</th>\n",
       "      <th>Unnamed: 18</th>\n",
       "    </tr>\n",
       "  </thead>\n",
       "  <tbody>\n",
       "    <tr>\n",
       "      <th>count</th>\n",
       "      <td>5117.000000</td>\n",
       "      <td>5117.000000</td>\n",
       "      <td>0.0</td>\n",
       "    </tr>\n",
       "    <tr>\n",
       "      <th>mean</th>\n",
       "      <td>991.036818</td>\n",
       "      <td>1013.913758</td>\n",
       "      <td>NaN</td>\n",
       "    </tr>\n",
       "    <tr>\n",
       "      <th>std</th>\n",
       "      <td>32.062027</td>\n",
       "      <td>32.792997</td>\n",
       "      <td>NaN</td>\n",
       "    </tr>\n",
       "    <tr>\n",
       "      <th>min</th>\n",
       "      <td>0.000000</td>\n",
       "      <td>0.000000</td>\n",
       "      <td>NaN</td>\n",
       "    </tr>\n",
       "    <tr>\n",
       "      <th>25%</th>\n",
       "      <td>987.000000</td>\n",
       "      <td>1009.800000</td>\n",
       "      <td>NaN</td>\n",
       "    </tr>\n",
       "    <tr>\n",
       "      <th>50%</th>\n",
       "      <td>993.000000</td>\n",
       "      <td>1015.900000</td>\n",
       "      <td>NaN</td>\n",
       "    </tr>\n",
       "    <tr>\n",
       "      <th>75%</th>\n",
       "      <td>998.000000</td>\n",
       "      <td>1021.000000</td>\n",
       "      <td>NaN</td>\n",
       "    </tr>\n",
       "    <tr>\n",
       "      <th>max</th>\n",
       "      <td>1010.000000</td>\n",
       "      <td>1033.200000</td>\n",
       "      <td>NaN</td>\n",
       "    </tr>\n",
       "  </tbody>\n",
       "</table>\n",
       "</div>"
      ],
      "text/plain": [
       "       Atm Press (hPa)  Altimeter (hPa)  Unnamed: 18\n",
       "count      5117.000000      5117.000000          0.0\n",
       "mean        991.036818      1013.913758          NaN\n",
       "std          32.062027        32.792997          NaN\n",
       "min           0.000000         0.000000          NaN\n",
       "25%         987.000000      1009.800000          NaN\n",
       "50%         993.000000      1015.900000          NaN\n",
       "75%         998.000000      1021.000000          NaN\n",
       "max        1010.000000      1033.200000          NaN"
      ]
     },
     "execution_count": 33,
     "metadata": {},
     "output_type": "execute_result"
    }
   ],
   "source": [
    "data.describe()\n",
    "\n"
   ]
  },
  {
   "cell_type": "code",
   "execution_count": 34,
   "id": "7e3f8529-b04d-4254-8e75-749304eb2a2c",
   "metadata": {},
   "outputs": [
    {
     "name": "stdout",
     "output_type": "stream",
     "text": [
      "Date                       0\n",
      "Time                      11\n",
      "Temp (F)                   6\n",
      "RH (%)                     6\n",
      "Dewpt (F)                  6\n",
      "Wind Spd (mph)             7\n",
      "Wind Direction (deg)       6\n",
      "Peak Wind Gust(mph)        6\n",
      "Low Cloud Ht (ft)          6\n",
      "Med Cloud Ht (ft)          6\n",
      "High Cloud Ht (ft)         6\n",
      "Visibility (mi)            6\n",
      "Atm Press (hPa)            6\n",
      "Sea Lev Press (hPa)        6\n",
      "Altimeter (hPa)            6\n",
      "Precip (in)                5\n",
      "Wind Chill (F)             6\n",
      "Heat Index (F)             6\n",
      "Unnamed: 18             5123\n",
      "dtype: int64\n"
     ]
    }
   ],
   "source": [
    "print(data.isnull().sum())"
   ]
  },
  {
   "cell_type": "code",
   "execution_count": 35,
   "id": "88e9e6ed-47e4-4666-b875-6237046aff72",
   "metadata": {},
   "outputs": [
    {
     "name": "stdout",
     "output_type": "stream",
     "text": [
      "(5123, 19)\n"
     ]
    }
   ],
   "source": [
    "print(data.shape)\n"
   ]
  },
  {
   "cell_type": "code",
   "execution_count": 36,
   "id": "d34a0180-685f-409f-b33f-aa59598974c2",
   "metadata": {},
   "outputs": [
    {
     "name": "stdout",
     "output_type": "stream",
     "text": [
      "Date                     object\n",
      "Time                     object\n",
      "Temp (F)                 object\n",
      "RH (%)                   object\n",
      "Dewpt (F)                object\n",
      "Wind Spd (mph)           object\n",
      "Wind Direction (deg)     object\n",
      "Peak Wind Gust(mph)      object\n",
      "Low Cloud Ht (ft)        object\n",
      "Med Cloud Ht (ft)        object\n",
      "High Cloud Ht (ft)       object\n",
      "Visibility (mi)          object\n",
      "Atm Press (hPa)         float64\n",
      "Sea Lev Press (hPa)      object\n",
      "Altimeter (hPa)         float64\n",
      "Precip (in)              object\n",
      "Wind Chill (F)           object\n",
      "Heat Index (F)           object\n",
      "Unnamed: 18             float64\n",
      "dtype: object\n"
     ]
    }
   ],
   "source": [
    "print(data.dtypes)"
   ]
  },
  {
   "cell_type": "markdown",
   "id": "35003c52-b10f-4af7-8902-5530bea5535d",
   "metadata": {},
   "source": [
    "## Data cleaning\n",
    "The dataset is cleaned by removing the unnecessary 'Unnamed: 18' column and replacing the string 'M' (indicating missing values) with NaN. The 'Precip (in)' column is converted to numeric, coercing invalid values (like 'M') into NaN.\n",
    "\n",
    "Next, we ensure that all feature columns (e.g., 'Temp (F)', 'RH (%)') are numeric, and any non-numeric values are coerced into NaN. Finally, rows with missing values in the feature columns are dropped.\n",
    "\n"
   ]
  },
  {
   "cell_type": "code",
   "execution_count": 38,
   "id": "0a0b3995-27f5-44ed-ba7f-480846910616",
   "metadata": {},
   "outputs": [],
   "source": [
    "# Drop the 'Unnamed: 18' column\n",
    "data_cleaned = data.drop(columns=['Unnamed: 18'])\n"
   ]
  },
  {
   "cell_type": "code",
   "execution_count": 39,
   "id": "2a04bf2e-2ef2-461d-926c-18c4d3f98d8c",
   "metadata": {},
   "outputs": [],
   "source": [
    "# Replace the string 'M' with NaN\n",
    "data.replace('M', np.nan, inplace=True)"
   ]
  },
  {
   "cell_type": "code",
   "execution_count": 40,
   "id": "81367997-9f6c-45a7-9e8d-99e43d6a593f",
   "metadata": {},
   "outputs": [
    {
     "data": {
      "text/plain": [
       "5"
      ]
     },
     "execution_count": 40,
     "metadata": {},
     "output_type": "execute_result"
    }
   ],
   "source": [
    "data['Precip (in)'].isnull().sum()\n"
   ]
  },
  {
   "cell_type": "code",
   "execution_count": 41,
   "id": "46f07b06-6892-46cc-9d3a-abb862d8e48a",
   "metadata": {},
   "outputs": [],
   "source": [
    "# Convert 'Precip (in)' to numeric and coerce invalid values to NaN\n",
    "data['Precip (in)'] = pd.to_numeric(data['Precip (in)'], errors='coerce')\n"
   ]
  },
  {
   "cell_type": "code",
   "execution_count": 42,
   "id": "e97bc0df-d2e4-4df3-8621-9fe4ba82faad",
   "metadata": {},
   "outputs": [],
   "source": [
    "# Clean non-numeric values in feature columns (e.g., 'Temp (F)', 'RH (%)', etc.)\n",
    "features = ['Temp (F)', 'RH (%)', 'Dewpt (F)', 'Wind Spd (mph)', 'Visibility (mi)', 'Atm Press (hPa)']\n",
    "for feature in features:\n",
    "    data[feature] = pd.to_numeric(data[feature], errors='coerce')"
   ]
  },
  {
   "cell_type": "code",
   "execution_count": 43,
   "id": "54d936ed-12a5-420f-bf77-ca99f8869934",
   "metadata": {},
   "outputs": [],
   "source": [
    "# Handle missing values (Option 1: Drop rows with missing values)\n",
    "data.dropna(subset=features, inplace=True)"
   ]
  },
  {
   "cell_type": "markdown",
   "id": "a09335c1-1409-4c5b-894d-72369e4aaa41",
   "metadata": {},
   "source": [
    "## Quantizing the Precipitation Data\n",
    "We divide the 'Precip (in)' data into four categories: 'No precipitation', 'Little precipitation', 'Medium precipitation', and 'Lots of precipitation'. The pd.cut() function is used to create these categories based on predefined bins. Any missing values in the 'Precipitation Category' are filled with 'No precipitation'"
   ]
  },
  {
   "cell_type": "code",
   "execution_count": 45,
   "id": "2aad4a18-422d-4bf7-a87b-dd9fc1f85862",
   "metadata": {},
   "outputs": [],
   "source": [
    "import numpy as np\n",
    "\n",
    "# Define bins and labels for quantization\n",
    "bins = [-np.inf, 0, 0.1, 0.5, np.inf]\n",
    "labels = ['No precipitation', 'Little precipitation', 'Medium precipitation', 'Lots of precipitation']\n"
   ]
  },
  {
   "cell_type": "code",
   "execution_count": 46,
   "id": "dfd52d94-7f56-42fb-b5db-d84389c01e78",
   "metadata": {},
   "outputs": [],
   "source": [
    "# Quantize 'Precip (in)' into predefined categories\n",
    "data['Precipitation Category'] = pd.cut(data['Precip (in)'], bins=bins, labels=labels)\n"
   ]
  },
  {
   "cell_type": "markdown",
   "id": "4eff73a0-f387-4fcc-91e0-2dc74aa6e2a8",
   "metadata": {},
   "source": [
    "Here we are filling any missing NaN values in the 'Precipitation Category' column with 'No precipitation'."
   ]
  },
  {
   "cell_type": "code",
   "execution_count": 48,
   "id": "025ee5db-853a-4e5d-b1ae-63ea97dedf6e",
   "metadata": {},
   "outputs": [
    {
     "name": "stderr",
     "output_type": "stream",
     "text": [
      "/var/folders/11/ygqnn08n60xc7jlnqdykvc2h0000gn/T/ipykernel_4164/2057418508.py:2: FutureWarning: A value is trying to be set on a copy of a DataFrame or Series through chained assignment using an inplace method.\n",
      "The behavior will change in pandas 3.0. This inplace method will never work because the intermediate object on which we are setting values always behaves as a copy.\n",
      "\n",
      "For example, when doing 'df[col].method(value, inplace=True)', try using 'df.method({col: value}, inplace=True)' or df[col] = df[col].method(value) instead, to perform the operation inplace on the original object.\n",
      "\n",
      "\n",
      "  data['Precipitation Category'].fillna('No precipitation', inplace=True)\n"
     ]
    }
   ],
   "source": [
    "# Handle NaN in 'Precipitation Category'\n",
    "data['Precipitation Category'].fillna('No precipitation', inplace=True)"
   ]
  },
  {
   "cell_type": "code",
   "execution_count": 49,
   "id": "080c64c6-7832-4498-9e40-e384b043553f",
   "metadata": {},
   "outputs": [
    {
     "name": "stdout",
     "output_type": "stream",
     "text": [
      "Precipitation Category\n",
      "No precipitation         0.923785\n",
      "Little precipitation     0.071121\n",
      "Medium precipitation     0.005094\n",
      "Lots of precipitation    0.000000\n",
      "Name: proportion, dtype: float64\n"
     ]
    }
   ],
   "source": [
    "# Calculate the probability distribution for the precipitation categories\n",
    "precip_category_counts = data['Precipitation Category'].value_counts(normalize=True)\n",
    "print(precip_category_counts)\n"
   ]
  },
  {
   "cell_type": "code",
   "execution_count": 50,
   "id": "ac94273c-08bd-4fc9-8b8b-55ebc4d91aec",
   "metadata": {},
   "outputs": [
    {
     "name": "stdout",
     "output_type": "stream",
     "text": [
      "0\n"
     ]
    }
   ],
   "source": [
    "print(precip_category_counts.isnull().sum())"
   ]
  },
  {
   "cell_type": "markdown",
   "id": "fe65806a-9ab9-4174-af09-7b8455941f48",
   "metadata": {},
   "source": [
    "## Calculating entropy\n",
    "Entropy is a measure of uncertainty or randomness in the system. In this case, the entropy is calculated based on the probability distribution of the different precipitation categories. This will help us understand how well the categories are distributed."
   ]
  },
  {
   "cell_type": "code",
   "execution_count": 52,
   "id": "07608713-93d8-4c1b-aea4-f75b024887ea",
   "metadata": {},
   "outputs": [
    {
     "name": "stdout",
     "output_type": "stream",
     "text": [
      "\n",
      "System Entropy: 0.2881273919191722\n"
     ]
    }
   ],
   "source": [
    "from scipy.stats import entropy\n",
    "\n",
    "# Compute the entropy of the system\n",
    "system_entropy = entropy(precip_category_counts)\n",
    "print(\"\\nSystem Entropy:\", system_entropy)\n"
   ]
  },
  {
   "cell_type": "code",
   "execution_count": 53,
   "id": "bc89339f-a7eb-4ef9-88b1-000fe85a433c",
   "metadata": {},
   "outputs": [
    {
     "data": {
      "image/png": "[encoded data removed]",
      "text/plain": [
       "<Figure size 640x480 with 1 Axes>"
      ]
     },
     "metadata": {},
     "output_type": "display_data"
    }
   ],
   "source": [
    "import matplotlib.pyplot as plt\n",
    "\n",
    "# Visualize the distribution of precipitation categories\n",
    "precip_category_counts.plot(kind='bar', color='skyblue', edgecolor='black')\n",
    "plt.title('Distribution of Precipitation Categories')\n",
    "plt.ylabel('Probability')\n",
    "plt.xlabel('Precipitation Category')\n",
    "plt.show()\n"
   ]
  },
  {
   "cell_type": "markdown",
   "id": "d087dbc4-fedf-48b3-9ec0-8429a9ba3053",
   "metadata": {},
   "source": [
    "### Creating Decision tree \n",
    "(extra, as it's not mentioned in the assignment. Will want to work more on increasing the accuracy as here its overfitting)"
   ]
  },
  {
   "cell_type": "markdown",
   "id": "12d1c8e8-47f5-439d-8c55-08532a83e208",
   "metadata": {},
   "source": [
    "## Preparing the Data for the Decision Tree\n",
    "The relevant feature columns are selected and stored in X, while the target variable (precipitation categories) is stored in y. Since decision trees in scikit-learn do not handle categorical targets directly, the target variable is encoded into numeric labels using LabelEncoder."
   ]
  },
  {
   "cell_type": "code",
   "execution_count": 56,
   "id": "327c23ca-9bf2-476c-9066-f54ab73dae34",
   "metadata": {},
   "outputs": [],
   "source": [
    "X = data[features]  # Features\n",
    "y = data['Precipitation Category']  # Target"
   ]
  },
  {
   "cell_type": "code",
   "execution_count": 57,
   "id": "ccbca1d0-81c8-4371-af8b-c06a99108dc8",
   "metadata": {},
   "outputs": [],
   "source": [
    "from sklearn.preprocessing import LabelEncoder\n",
    "label_encoder = LabelEncoder()\n",
    "y_encoded = label_encoder.fit_transform(y)"
   ]
  },
  {
   "cell_type": "code",
   "execution_count": 58,
   "id": "ded331e2-85d4-4638-853a-54891b1cd22f",
   "metadata": {},
   "outputs": [
    {
     "name": "stdout",
     "output_type": "stream",
     "text": [
      "Classification Report:\n",
      "                      precision    recall  f1-score   support\n",
      "\n",
      "Little precipitation       0.48      0.44      0.46        70\n",
      "Medium precipitation       0.33      0.50      0.40         4\n",
      "    No precipitation       0.96      0.97      0.96       947\n",
      "\n",
      "            accuracy                           0.93      1021\n",
      "           macro avg       0.59      0.64      0.61      1021\n",
      "        weighted avg       0.93      0.93      0.93      1021\n",
      "\n",
      "Accuracy Score: 0.9275220372184133\n",
      "Classification Report:\n",
      "                      precision    recall  f1-score   support\n",
      "\n",
      "Little precipitation       0.48      0.44      0.46        70\n",
      "Medium precipitation       0.33      0.50      0.40         4\n",
      "    No precipitation       0.96      0.97      0.96       947\n",
      "\n",
      "            accuracy                           0.93      1021\n",
      "           macro avg       0.59      0.64      0.61      1021\n",
      "        weighted avg       0.93      0.93      0.93      1021\n",
      "\n",
      "Accuracy Score: 0.9275220372184133\n",
      "R² Score: -0.05426627245308824\n",
      "Mean Squared Error (MSE): 0.2722820763956905\n"
     ]
    }
   ],
   "source": [
    "\n",
    "from sklearn.model_selection import train_test_split\n",
    "from sklearn.tree import DecisionTreeClassifier\n",
    "from sklearn.preprocessing import LabelEncoder  \n",
    "from sklearn.metrics import classification_report, accuracy_score\n",
    "import matplotlib.pyplot as plt\n",
    "from sklearn import tree\n",
    "from sklearn.metrics import r2_score, mean_squared_error\n",
    "X_train, X_test, y_train, y_test = train_test_split(X, y_encoded, test_size=0.2, random_state=42)\n",
    "\n",
    "\n",
    "tree_model = DecisionTreeClassifier(random_state=42)\n",
    "tree_model.fit(X_train, y_train)\n",
    "\n",
    "y_pred = tree_model.predict(X_test)\n",
    "\n",
    "\n",
    "print(\"Classification Report:\")\n",
    "print(classification_report(y_test, y_pred, target_names=label_encoder.classes_))\n",
    "print(\"Accuracy Score:\", accuracy_score(y_test, y_pred))\n",
    "print(\"Classification Report:\")\n",
    "print(classification_report(y_test, y_pred, target_names=label_encoder.classes_))\n",
    "print(\"Accuracy Score:\", accuracy_score(y_test, y_pred))\n",
    "r2 = r2_score(y_test, y_pred)\n",
    "print(f\"R² Score: {r2}\")\n",
    "\n",
    "mse = mean_squared_error(y_test, y_pred)\n",
    "print(f\"Mean Squared Error (MSE): {mse}\")"
   ]
  },
  {
   "cell_type": "code",
   "execution_count": 59,
   "id": "f7cd9620-24ab-4eb0-b765-bb308a5d8941",
   "metadata": {},
   "outputs": [
    {
     "name": "stdout",
     "output_type": "stream",
     "text": [
      "SVM - Classification Report\n",
      "              precision    recall  f1-score   support\n",
      "\n",
      "           0       0.00      0.00      0.00        70\n",
      "           1       0.00      0.00      0.00         4\n",
      "           2       0.93      1.00      0.96       947\n",
      "\n",
      "    accuracy                           0.93      1021\n",
      "   macro avg       0.31      0.33      0.32      1021\n",
      "weighted avg       0.86      0.93      0.89      1021\n",
      "\n",
      "SVM - Accuracy: 0.9275220372184133\n"
     ]
    },
    {
     "name": "stderr",
     "output_type": "stream",
     "text": [
      "/opt/anaconda3/lib/python3.12/site-packages/sklearn/metrics/_classification.py:1509: UndefinedMetricWarning: Precision is ill-defined and being set to 0.0 in labels with no predicted samples. Use `zero_division` parameter to control this behavior.\n",
      "  _warn_prf(average, modifier, f\"{metric.capitalize()} is\", len(result))\n",
      "/opt/anaconda3/lib/python3.12/site-packages/sklearn/metrics/_classification.py:1509: UndefinedMetricWarning: Precision is ill-defined and being set to 0.0 in labels with no predicted samples. Use `zero_division` parameter to control this behavior.\n",
      "  _warn_prf(average, modifier, f\"{metric.capitalize()} is\", len(result))\n",
      "/opt/anaconda3/lib/python3.12/site-packages/sklearn/metrics/_classification.py:1509: UndefinedMetricWarning: Precision is ill-defined and being set to 0.0 in labels with no predicted samples. Use `zero_division` parameter to control this behavior.\n",
      "  _warn_prf(average, modifier, f\"{metric.capitalize()} is\", len(result))\n"
     ]
    }
   ],
   "source": [
    "from sklearn.svm import SVC\n",
    "\n",
    "# Train the SVM model\n",
    "clf_svm = SVC(kernel='rbf', random_state=42)\n",
    "clf_svm.fit(X_train, y_train)\n",
    "\n",
    "# Predict and evaluate\n",
    "y_pred_svm = clf_svm.predict(X_test)\n",
    "print(\"SVM - Classification Report\")\n",
    "print(classification_report(y_test, y_pred_svm))\n",
    "print(\"SVM - Accuracy:\", accuracy_score(y_test, y_pred_svm))\n"
   ]
  },
  {
   "cell_type": "code",
   "execution_count": null,
   "id": "941a32b8-0fab-4e34-8a82-32c3e39d61ac",
   "metadata": {},
   "outputs": [],
   "source": []
  }
 ],
 "metadata": {
  "kernelspec": {
   "display_name": "Python 3 (ipykernel)",
   "language": "python",
   "name": "python3"
  },
  "language_info": {
   "codemirror_mode": {
    "name": "ipython",
    "version": 3
   },
   "file_extension": ".py",
   "mimetype": "text/x-python",
   "name": "python",
   "nbconvert_exporter": "python",
   "pygments_lexer": "ipython3",
   "version": "3.12.4"
  }
 },
 "nbformat": 4,
 "nbformat_minor": 5
}
